{
 "cells": [
  {
   "cell_type": "markdown",
   "source": [
    "# Trainers"
   ],
   "metadata": {
    "collapsed": false,
    "pycharm": {
     "name": "#%% md\n"
    }
   }
  },
  {
   "cell_type": "markdown",
   "source": [
    "## Multi-GPU on a Single Node\n",
    "## (1) Torchrun with Distributed Data Parallel (DDP)\n",
    "```bash\n",
    "torchrun --standalone --nproc_per_node=gpu main.py --model Keci --trainer torchDDP --num_epochs 1 --scoring_technique KvsAll --embedding_dim 256 --p 1 --q 2 --path_dataset_folder \"KGs/YAGO3-10\" --eval_mode None\n",
    "# or\n",
    "torchrun --standalone --nproc_per_node=gpu main.py --model Pykeen_ComplEx --trainer torchDDP --num_epochs 1 --scoring_technique KvsAll --embedding_dim 256 --path_dataset_folder \"KGs/YAGO3-10\" --eval_mode None\n",
    "```\n",
    "There is a memory leakage at Pykeen models. Memory usage seems increase.\n",
    "## (2) Pytorch-Lightning (PL) with DDP\n",
    "```bash\n",
    "python main.py --trainer 'PL' --accelerator \"gpu\" --strategy \"ddp\" --model Keci --trainer 'PL' --num_epochs 1 --scoring_technique KvsAll --embedding_dim 256 --p 1 --q 2 --path_dataset_folder \"KGs/YAGO3-10\" --eval_mode None\n",
    "```\n",
    "\n",
    "## (3) PL with DDP and Low Precision\n",
    "The following command runs on 2 RTX 3090 with 24 GB and uses 7484MiB MiB / 24576 MiB.\n",
    "```bash\n",
    "python main.py --trainer 'PL' --accelerator \"gpu\" --strategy \"ddp\" --model Keci --trainer 'PL' --num_epochs 1 --scoring_technique KvsAll --embedding_dim 256 --p 1 --q 2 --path_dataset_folder \"KGs/YAGO3-10\" --eval_mode None --batch_size 1024\n",
    "```\n",
    "Memory Usage: (7082MiB / 24576MiB)\n",
    "```bash\n",
    "python main.py --trainer 'PL' --accelerator \"gpu\" --strategy \"ddp\" --model Keci --trainer 'PL' --num_epochs 1 --scoring_technique KvsAll --embedding_dim 256 --p 1 --q 2 --path_dataset_folder \"KGs/YAGO3-10\" --eval_mode None --batch_size 1024 --precision 16\n",
    "```\n",
    "## (4) Pytorch-Lightning (PL) with Deep Speed 1-3\n",
    "Didn't observe any memory reduction with deep speed in terms of GPU memory usage.\n",
    "```bash\n",
    "python main.py --trainer 'PL' --accelerator \"gpu\" --strategy \"deepspeed_stage_3\" --model Keci --trainer 'PL' --num_epochs 1 --scoring_technique KvsAll --embedding_dim 256 --p 1 --q 2 --path_dataset_folder \"KGs/YAGO3-10\" --eval_mode None --batch_size 1024 --precision 16\n",
    "```\n",
    "## Multi-GPU on Multi-Node\n",
    "\n",
    "## (1) Torchrun and DDP\n",
    "\n",
    "Execute the following command on the node 1.\n",
    "```bash\n",
    "torchrun --nnodes 2 --nproc_per_node=gpu  --node_rank 0 --rdzv_id 455 --rdzv_backend c10d --rdzv_endpoint=nebula main.py --model 'ComplEx' --embedding_dim 32 --num_epochs 100 --path_dataset_folder 'KGs/UMLS' --trainer torchDDP\n",
    "```\n",
    "Execute the following command on the node 2\n",
    "```bash\n",
    "torchrun --nnodes 2 --nproc_per_node=gpu  --node_rank 1 --rdzv_id 455 --rdzv_backend c10d --rdzv_endpoint=nebula main.py --model 'ComplEx' --embedding_dim 32 --num_epochs 100 --path_dataset_folder 'KGs/UMLS' --trainer torchDDP\n",
    "```\n",
    "\n",
    "Execute the following command on the node 1.\n",
    "```bash\n",
    "torchrun --nnodes 2 --nproc_per_node=gpu  --node_rank 0 --rdzv_id 455 --rdzv_backend c10d --rdzv_endpoint=felis main.py --model 'Pykeen_QuatE' --embedding_dim 32 --num_epochs 100 --path_dataset_folder 'KGs/UMLS' --trainer torchDDP\n",
    "```\n",
    "Execute the following command on the node 2\n",
    "```bash\n",
    "torchrun --nnodes 2 --nproc_per_node=gpu  --node_rank 1 --rdzv_id 455 --rdzv_backend c10d --rdzv_endpoint=felis main.py --model 'Pykeen_QuatE' --embedding_dim 32 --num_epochs 100 --path_dataset_folder 'KGs/UMLS' --trainer torchDDP\n",
    "```\n",
    "\n",
    "## Multi-GPU on Multi-Node with Model Parallel\n",
    "```bash\n",
    "python main.py --trainer 'PL' --accelerator \"gpu\" --strategy \"deepspeed\" --model Pykeen_QuatE --num_epochs 1 --embedding_dim 1 --batch_size 256 --scoring_technique KvsAll --path_dataset_folder \"KGs/YAGO3-10\" --eval_model None\n",
    "```"
   ],
   "metadata": {
    "collapsed": false,
    "pycharm": {
     "name": "#%% md\n"
    }
   }
  }
 ],
 "metadata": {
  "kernelspec": {
   "display_name": "Python 3",
   "language": "python",
   "name": "python3"
  },
  "language_info": {
   "codemirror_mode": {
    "name": "ipython",
    "version": 2
   },
   "file_extension": ".py",
   "mimetype": "text/x-python",
   "name": "python",
   "nbconvert_exporter": "python",
   "pygments_lexer": "ipython2",
   "version": "2.7.6"
  }
 },
 "nbformat": 4,
 "nbformat_minor": 0
}